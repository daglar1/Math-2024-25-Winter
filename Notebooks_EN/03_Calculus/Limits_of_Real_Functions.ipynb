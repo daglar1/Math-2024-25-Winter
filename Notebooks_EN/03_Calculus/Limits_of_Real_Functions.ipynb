{
  "nbformat": 4,
  "nbformat_minor": 0,
  "metadata": {
    "colab": {
      "provenance": []
    },
    "kernelspec": {
      "name": "python3",
      "display_name": "Python 3"
    },
    "language_info": {
      "name": "python"
    }
  },
  "cells": [
    {
      "cell_type": "markdown",
      "source": [
        "# Useful Formulas for Limits and Asymptotes\n",
        "\n",
        "## 1. Limits of Rational Functions\n",
        "- For $\\displaystyle \\lim_{x \\to \\infty} \\frac{P(x)}{Q(x)}$ where $P(x)$ and $Q(x)$ are polynomials:\n",
        "  - If the degree of $P(x)$ < degree of $Q(x)$, then $\\displaystyle \\lim_{x \\to \\infty} \\frac{P(x)}{Q(x)} = 0$.\n",
        "  - If the degree of $P(x)$ = degree of $Q(x)$, then the limit equals the ratio of leading coefficients.\n",
        "  - If the degree of $P(x)$ > degree of $Q(x)$, then $\\displaystyle \\lim_{x \\to \\infty} \\frac{P(x)}{Q(x)} = \\infty$ or $-\\infty$.\n",
        "\n",
        "## 2. Trigonometric Limits\n",
        "- Standard limits:\n",
        "  - $\\displaystyle \\lim_{x \\to 0} \\frac{\\sin(x)}{x} = 1$  \n",
        "  - $\\displaystyle \\lim_{x \\to 0} \\frac{\\cos(x) - 1}{x} = 0$.\n",
        "\n",
        "- A linear multiplier inside $\\sin$:\n",
        "  - $\\displaystyle \\lim_{x \\to 0} \\frac{\\sin(kx)}{kx} = 1 \\ \\text{where k is a constant}$.\n",
        "\n",
        "## 3. Horizontal Asymptotes\n",
        "- For a rational function $\\displaystyle f(x) = \\frac{P(x)}{Q(x)}$:\n",
        "  - Horizontal asymptotes depend on the degree of $P(x)$ and $Q(x)$:\n",
        "    - Degree of $P(x)$ < degree of $Q(x)$: Horizontal asymptote at $y = 0$.\n",
        "    - Degree of $P(x)$ = degree of $Q(x)$: Horizontal asymptote at $y = \\frac{a}{b}$ where $a$ and $b$ are leading coefficients.\n",
        "    - Degree of $P(x)$ > degree of $Q(x)$: No horizontal asymptote.\n",
        "\n",
        "## 4. Vertical Asymptotes\n",
        "- Vertical asymptotes occur at $x = a$ where the denominator equals zero but the numerator does not:  \n",
        "  - $\\displaystyle \\lim_{x \\to a} f(x) = \\infty$ or $-\\infty$.\n",
        "\n",
        "## 5. Special Limits\n",
        "- For small $x$ (near $0$), approximations:\n",
        "  - $\\sin(x) \\approx x$  \n",
        "  - $\\cos(x) \\approx 1 - \\frac{x^2}{2}$  \n"
      ],
      "metadata": {
        "id": "E47-SGWNlc_P"
      }
    },
    {
      "cell_type": "markdown",
      "source": [
        "#Exercises\n",
        "Limits of Real Functions\n",
        "\n",
        "1. Compute:\n",
        "   - $\\displaystyle\\lim_{x \\to \\infty} \\frac{x^3 + 2x^2}{x^4 - 3x^3}$\n",
        "\n",
        "2. Find:\n",
        "   \n",
        "   - $\\displaystyle \\lim_{x \\to 0} \\frac{\\sin(3x)}{2x+1}$.\n",
        "\n",
        "4. Find the asymptotes of the function:\n",
        "  \n",
        "   - $f(x) = \\frac{x^2 - 1}{x^2 + 1}$\n",
        "   - $g(x) = \\frac{\\sin(x)}{x^2+1}$\n"
      ],
      "metadata": {
        "id": "nCH7XsWflqhT"
      }
    },
    {
      "cell_type": "markdown",
      "source": [
        "#3rd Question\n",
        "# Asymptotes of the Functions\n",
        "\n",
        "## 1. \\( f(x) = \\frac{x^2 - 1}{x^2 + 1} \\)\n",
        "\n",
        "- **Horizontal Asymptote**:  \n",
        "  Degrees of numerator and denominator are equal (\\(2\\)).  \n",
        "  Ratio of leading coefficients:  \n",
        "  $$\n",
        "  y = \\frac{1}{1} = 1\n",
        "  $$\n",
        "\n",
        "- **Vertical Asymptote**:  \n",
        "  Denominator \\(x^2 + 1 = 0\\) has no real solutions.  \n",
        "  **None**.\n",
        "\n",
        "---\n",
        "\n",
        "## 2. \\( g(x) = \\frac{\\sin(x)}{x^2 + 1} \\)\n",
        "\n",
        "- **Horizontal Asymptote**:  \n",
        "  As \\(x \\to \\pm \\infty\\), numerator \\(\\sin(x)\\) is bounded, denominator \\(\\to \\infty\\):  \n",
        "  $$\n",
        "  y = 0\n",
        "  $$\n",
        "\n",
        "- **Vertical Asymptote**:  \n",
        "  Denominator \\(x^2 + 1 = 0\\) has no real solutions.  \n",
        "  **None**.\n"
      ],
      "metadata": {
        "id": "1p90lm6-q7V-"
      }
    },
    {
      "cell_type": "markdown",
      "source": [
        "#geogebra visualization : https://www.geogebra.org/calculator/bwpbkf83"
      ],
      "metadata": {
        "id": "xG1wobJ8r2Hj"
      }
    },
    {
      "cell_type": "markdown",
      "source": [
        "#2nd Question\n",
        "# Solution to the Limit Problem\n",
        "\n",
        "To compute:  \n",
        "$$\n",
        "\\lim_{x \\to 0} \\frac{\\sin(3x)}{2x + 1}\n",
        "$$\n",
        "\n",
        "---\n",
        "\n",
        "### Step 1: Recall the standard limit\n",
        "We know that:  \n",
        "$$\n",
        "\\lim_{x \\to 0} \\frac{\\sin(kx)}{kx} = 1 \\quad \\text{(where \\(k\\) is a constant)}.\n",
        "$$\n",
        "\n",
        "Here, since the argument of sine is \\(3x\\), we take \\(k = 3\\). Therefore:  \n",
        "$$\n",
        "\\lim_{x \\to 0} \\frac{\\sin(3x)}{3x} = 1.\n",
        "$$\n",
        "\n",
        "---\n",
        "\n",
        "### Step 2: Rewrite the given expression\n",
        "To match the standard form, factor out \\(3\\):  \n",
        "$$\n",
        "\\frac{\\sin(3x)}{2x + 1} = \\frac{\\sin(3x)}{3x} \\cdot \\frac{3x}{2x + 1}.\n",
        "$$\n",
        "\n",
        "---\n",
        "\n",
        "### Step 3: Take the limit of each part\n",
        "1. From the standard limit:  \n",
        "   $$\n",
        "   \\lim_{x \\to 0} \\frac{\\sin(3x)}{3x} = 1.\n",
        "   $$\n",
        "\n",
        "2. For the second part \\( \\frac{3x}{2x + 1} \\), as \\(x \\to 0\\):  \n",
        "   - The numerator \\(3x \\to 0\\).  \n",
        "   - The denominator \\(2x + 1 \\to 1\\).  \n",
        "\n",
        "   Thus:  \n",
        "   $$\n",
        "   \\lim_{x \\to 0} \\frac{3x}{2x + 1} = 0.\n",
        "   $$\n",
        "\n",
        "---\n",
        "\n"
      ],
      "metadata": {
        "id": "J3x2wudVpUPD"
      }
    },
    {
      "cell_type": "markdown",
      "source": [
        "Geogebra visualization : https://www.geogebra.org/calculator/px8hmewb"
      ],
      "metadata": {
        "id": "nYpn9SZpplSi"
      }
    },
    {
      "cell_type": "code",
      "source": [
        "#1st Question\n",
        "\n",
        "import sympy as sp\n",
        "\n",
        "# Define the variable\n",
        "x = sp.symbols('x')\n",
        "\n",
        "# Define the function\n",
        "expr = (x**3 + 2*x**2) / (x**4 - 3*x**3)\n",
        "\n",
        "# Compute the limit as x approaches infinity\n",
        "limit_result = sp.limit(expr, x, sp.oo)\n",
        "\n",
        "# Print the result\n",
        "print(\"The limit as x approaches infinity is:\", limit_result)\n"
      ],
      "metadata": {
        "id": "S3I3mDHpnrqx",
        "outputId": "fbb82d07-f915-4a92-81cb-a171d9f2d614",
        "colab": {
          "base_uri": "https://localhost:8080/"
        }
      },
      "execution_count": 1,
      "outputs": [
        {
          "output_type": "stream",
          "name": "stdout",
          "text": [
            "The limit as x approaches infinity is: 0\n"
          ]
        }
      ]
    },
    {
      "cell_type": "markdown",
      "source": [
        "Geogebra visualization : https://www.geogebra.org/calculator/jmwkrvux"
      ],
      "metadata": {
        "id": "juku6a1Im1eJ"
      }
    }
  ]
}
