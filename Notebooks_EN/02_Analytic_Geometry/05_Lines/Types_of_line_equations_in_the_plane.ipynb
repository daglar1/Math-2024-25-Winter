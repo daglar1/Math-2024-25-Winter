asic Matrix Operations
Matrix Addition
Let 
 and 
 be two matrices of dimensions 
. Then the sum of matrices 
 and 
 is the matrix 
 of dimensions 
, where 
.

Matrix Scalar Multiplication
Let 
 be a matrix of dimensions 
, and let 
 be a scalar. Then the product of matrix 
 and scalar 
 is the matrix 
 of dimensions 
, where 
.

Matrix Multiplication
Let 
 be a matrix of dimensions 
, and 
 be a matrix of dimensions 
. Then the product of matrices 
 and 
 is the matrix 
 of dimensions 
, where 
.

Example 1
Let  
 
 and  
 
. Then the sum of matrices 
 and 
 is

  
 

Example 2
Let  
 
 and 
.

Then the product of matrix 
 and scalar 
 is

  
  
 

Example 3
Let  
 
 and  
 
.

Then the product of matrices 
 and 
 is

  
 


# Example 1: Matrix addition in sympy
import sympy as sp

A=sp.Matrix([[1,2],[3,4]])
B=sp.Matrix([[5,6],[7,8]])
A # display matrix A
     

B # display matrix B
     

sp.Matrix([[6,8],[10,12]])==A+B # verify matrix addition
     

# Example 2: Scalar multiplication
A=sp.Matrix([[1,2],[3,4]]) # define matrix A

sp.Matrix([[2,4],[6,8]])==2*A # verify scalar multiplication
     

# Example 3: Multiplication of two matrices

A=sp.Matrix([[1,2],[3,4]]) # define matrix A
B=sp.Matrix([[5,6],[7,8]]) # define matrix B

sp.Matrix([[19,22],[43,50]])==A*B # verify matrix multiplication
     
Necessary Condition for Matrix Multiplication
Remember that matrices can have different numbers of rows and columns.

To multiply two matrices 
 and 
, where 
 has dimensions 
 and 
 has dimensions 
, the number of columns of matrix 
 must equal the number of rows of matrix 
. Otherwise, matrix multiplication is not possible.


For example, if 
 and 
, then the resulting matrix 
.

Matrix Multiplication GIF
Matrix Multiplication is Not Commutative
Matrix multiplication is not commutative, i.e., in general 
.


# Example of multiplying rectangular matrices
import sympy as sp
A=sp.Matrix([[1,2],[3,4],[5,6]]) # define matrix A_{3 x 2}
B=sp.Matrix([[1,2,3],[4,5,6]]) # define matrix B_{2 x 3}
C=sp.Matrix([[9,12,15],[19,26,33],[29,40,51]]) # define matrix C_{3 x 3}

A*B # multiply matrices A and B to get a 3x3 matrix
     
 

B*A # multiply matrices B and A to get a 2x2 matrix
     
 

B*C # multiply matrices B and C to get a 2x3 matrix
     
 
Exercises for Students
Calculate the sum of matrices  
 
 and  
 
.

Calculate the product of matrix  
 
 and scalar 
 
.

Calculate the products 
 and 
 for matrices  
 
 and  
 
.


import sympy as sp

A = sp.Matrix([[1, 2], [3, 4]])
B = sp.Matrix([[5, 6], [7, 8]])
C = A + B
C
     
 

sp.Matrix([[6, 8], [10, 12]]) == A + B
     
True

import sympy as sp

A = sp.Matrix([[4, 2], [12, 4]])
k = sp.Rational(1, 4)
product = k*A
print(product)
     
Matrix([[1, 1/2], [3, 1]])

import sympy as sp

A = sp.Matrix([[4, 2], [12, 4]])
k = sp.Rational(1, 4)
product = k*A
expected_matrix = sp.Matrix([[1, sp.Rational(1, 2)], [3, 1]])
is_equal = product == expected_matrix
print(is_equal)
     
True

import sympy as sp

A = sp.Matrix([[3, 2], [2, 4]])
B = sp.Matrix([[4, 1], [6, 4]])
product_AB = A * B
product_BA = B * A
print("A . B:")
print(product_AB)
print("\nB . A:")
print(product_BA)


     
A . B:
Matrix([[24, 11], [32, 18]])

B . A:
Matrix([[14, 12], [26, 28]])
