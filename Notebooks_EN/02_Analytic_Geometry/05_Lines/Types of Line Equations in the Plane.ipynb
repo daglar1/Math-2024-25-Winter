Exercise for students:
The line passes through points 
A
(
1
,
2
)
 and 
B
(
3
,
4
)
. Find the equation of the line.
