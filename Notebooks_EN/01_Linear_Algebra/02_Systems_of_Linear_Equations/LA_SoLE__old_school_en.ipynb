{
  "cells": [
    {
      "cell_type": "markdown",
      "metadata": {
        "id": "r0-i22GFK78r"
      },
      "source": [
        "# School Method for Solving Systems of Linear Equations"
      ]
    },
    {
      "cell_type": "code",
      "execution_count": 1,
      "metadata": {
        "id": "T_Gje8FZK78s"
      },
      "outputs": [],
      "source": [
        "import sympy as sp\n",
        "from sympy import symbols, Eq, expand, solve\n",
        "\n",
        "class EnhancedEq(Eq):\n",
        "    def __add__(self, other):\n",
        "        return EnhancedEq(self.lhs + other.lhs, self.rhs + other.rhs)\n",
        "\n",
        "    def __sub__(self, other):\n",
        "        return EnhancedEq(self.lhs - other.lhs, self.rhs - other.rhs)\n",
        "\n",
        "    def __mul__(self, scalar):\n",
        "        return EnhancedEq(scalar * self.lhs, scalar * self.rhs)\n",
        "\n",
        "    def __rmul__(self, scalar):\n",
        "        return self.__mul__(scalar)\n",
        "\n",
        "    def simplify(self):\n",
        "        return EnhancedEq(expand(self.lhs), expand(self.rhs))\n",
        "\n",
        "    def substitute(self, *args, **kwargs):\n",
        "        return EnhancedEq(self.lhs.subs(*args, **kwargs), self.rhs.subs(*args, **kwargs))\n",
        "\n",
        "    def solve_for(self, symbol):\n",
        "        return solve(self, symbol)\n",
        "\n",
        "# Example usage:\n",
        "x, y = symbols('x y')\n",
        "\n",
        "# Define equations\n",
        "eq1 = EnhancedEq(2*x + y, 5)\n",
        "eq2 = EnhancedEq(x - y, 1)"
      ]
    },
    {
      "cell_type": "code",
      "execution_count": 2,
      "metadata": {
        "colab": {
          "base_uri": "https://localhost:8080/",
          "height": 57
        },
        "id": "8Li46FHJK78s",
        "outputId": "88e22917-630c-4f0b-821d-d9ee9994178e"
      },
      "outputs": [
        {
          "output_type": "stream",
          "name": "stdout",
          "text": [
            "First equation:\n"
          ]
        },
        {
          "output_type": "execute_result",
          "data": {
            "text/plain": [
              "Eq(2*x + y, 5)"
            ],
            "text/latex": "$\\displaystyle 2 x + y = 5$"
          },
          "metadata": {},
          "execution_count": 2
        }
      ],
      "source": [
        "print(\"First equation:\")\n",
        "eq1"
      ]
    },
    {
      "cell_type": "code",
      "execution_count": 3,
      "metadata": {
        "colab": {
          "base_uri": "https://localhost:8080/",
          "height": 57
        },
        "id": "su5XZ2stK78t",
        "outputId": "6f894f8d-6493-452d-abae-e442089916a0"
      },
      "outputs": [
        {
          "output_type": "stream",
          "name": "stdout",
          "text": [
            "Second equation:\n"
          ]
        },
        {
          "output_type": "execute_result",
          "data": {
            "text/plain": [
              "Eq(x - y, 1)"
            ],
            "text/latex": "$\\displaystyle x - y = 1$"
          },
          "metadata": {},
          "execution_count": 3
        }
      ],
      "source": [
        "print(\"Second equation:\")\n",
        "eq2"
      ]
    },
    {
      "cell_type": "code",
      "execution_count": 4,
      "metadata": {
        "colab": {
          "base_uri": "https://localhost:8080/",
          "height": 39
        },
        "id": "C9k0PhCzK78t",
        "outputId": "a901ab86-bdfe-4109-ead8-65126b1cbaf4"
      },
      "outputs": [
        {
          "output_type": "execute_result",
          "data": {
            "text/plain": [
              "Eq(3*x, 6)"
            ],
            "text/latex": "$\\displaystyle 3 x = 6$"
          },
          "metadata": {},
          "execution_count": 4
        }
      ],
      "source": [
        "# Add the equations\n",
        "eq3 = eq1 + eq2\n",
        "eq3"
      ]
    },
    {
      "cell_type": "code",
      "execution_count": 5,
      "metadata": {
        "colab": {
          "base_uri": "https://localhost:8080/",
          "height": 37
        },
        "id": "s1gl2nvVK78t",
        "outputId": "83e414be-b5e3-4a78-a8d8-b07759b7566e"
      },
      "outputs": [
        {
          "output_type": "execute_result",
          "data": {
            "text/plain": [
              "2"
            ],
            "text/latex": "$\\displaystyle 2$"
          },
          "metadata": {},
          "execution_count": 5
        }
      ],
      "source": [
        "# We have an equation with one unknown, so we can solve it\n",
        "sol_x = eq3.solve_for(x)[0]\n",
        "sol_x"
      ]
    },
    {
      "cell_type": "code",
      "execution_count": 6,
      "metadata": {
        "colab": {
          "base_uri": "https://localhost:8080/",
          "height": 39
        },
        "id": "uqjOv8DMK78t",
        "outputId": "a2e072dd-5167-4e8b-9de4-e333bedeca6c"
      },
      "outputs": [
        {
          "output_type": "execute_result",
          "data": {
            "text/plain": [
              "Eq(2 - y, 1)"
            ],
            "text/latex": "$\\displaystyle 2 - y = 1$"
          },
          "metadata": {},
          "execution_count": 6
        }
      ],
      "source": [
        "# Substitute the solution into equation 2\n",
        "eq2 = eq2.substitute(x, sol_x)\n",
        "eq2"
      ]
    },
    {
      "cell_type": "code",
      "execution_count": 7,
      "metadata": {
        "colab": {
          "base_uri": "https://localhost:8080/",
          "height": 37
        },
        "id": "kUSWSpxDK78u",
        "outputId": "7b794fe8-2a2d-49a4-ec40-621dc74c27e7"
      },
      "outputs": [
        {
          "output_type": "execute_result",
          "data": {
            "text/plain": [
              "1"
            ],
            "text/latex": "$\\displaystyle 1$"
          },
          "metadata": {},
          "execution_count": 7
        }
      ],
      "source": [
        "# We get an equation with one unknown, so we can solve it\n",
        "eq2.solve_for(y)[0]"
      ]
    },
    {
      "cell_type": "code",
      "execution_count": 8,
      "metadata": {
        "colab": {
          "base_uri": "https://localhost:8080/"
        },
        "id": "E4wrlPrtK78u",
        "outputId": "897ceb57-8c0c-4dc1-d718-988b21eb9101"
      },
      "outputs": [
        {
          "output_type": "execute_result",
          "data": {
            "text/plain": [
              "{x: 2, y: 1}"
            ]
          },
          "metadata": {},
          "execution_count": 8
        }
      ],
      "source": [
        "# Thus x=2, y=1\n",
        "# Verify with sympy\n",
        "sp.solve([eq1, eq2])"
      ]
    },
    {
      "cell_type": "markdown",
      "metadata": {
        "id": "ODAR33bqK78u"
      },
      "source": [
        "---\n",
        "\n",
        "### Exercises for Students\n",
        "\n",
        "Solve the following systems of equations similarly to the example above:\n",
        "\n",
        "* $3x-2y=5, \\quad 2x+3y=7$,\n",
        "* $2x-3y=10, \\quad 4x+5y=20$,\n",
        "* $2x - y + z = 3, \\quad x + 2y - z = 1, \\quad 3x - y + 2z = 11$.\n",
        "* $2x-3y+4z+2t=2, \\quad 3x+2y-5z+3t=3, \\quad 4x-3y+2z-5t=4, \\quad 5x+4y-3z+2t=5$."
      ]
    },
    {
      "cell_type": "code",
      "source": [
        "#Fourth Eq\n",
        "x, y, z, t = symbols('x y z t')\n",
        "eq1 = EnhancedEq(2*x - 3*y + 4*z + 2*t, 2)\n",
        "eq2 = EnhancedEq(3*x + 2*y - 5*z + 3*t, 3)\n",
        "eq3 = EnhancedEq(4*x - 3*y + 2*z - 5*t, 4)\n",
        "eq4 = EnhancedEq(5*x + 4*y - 3*z + 2*t, 5)\n",
        "eq5 = eq4.simplify()\n",
        "sol_x = eq5.solve_for(x)[0]\n",
        "eq1 = eq1.substitute(x, sol_x)\n",
        "sol_y = eq1.solve_for(y)[0]\n",
        "eq2 = eq2.substitute(y, sol_y)\n",
        "sol_z = eq2.solve_for(z)[0]\n",
        "eq3 = eq3.substitute(z, sol_z)\n",
        "sol_t = eq3.solve_for(t)[0]\n",
        "sp.solve([eq1, eq2, eq3])"
      ],
      "metadata": {
        "id": "v5QleRUdP6xB",
        "outputId": "a1bbf30f-b1fe-4505-dfd9-2d1b3eef2a12",
        "colab": {
          "base_uri": "https://localhost:8080/"
        }
      },
      "execution_count": 21,
      "outputs": [
        {
          "output_type": "execute_result",
          "data": {
            "text/plain": [
              "{t: 52*z/241, x: 159*z/241 + 1, y: 286*z/241}"
            ]
          },
          "metadata": {},
          "execution_count": 21
        }
      ]
    },
    {
      "cell_type": "code",
      "source": [
        "#Third Eq\n",
        "x, y, z = symbols('x y z')\n",
        "eq1 = EnhancedEq(2*x - 3*y + 4*z, 2)\n",
        "eq2 = EnhancedEq(3*x + 2*y - 5*z, 3)\n",
        "eq3 = EnhancedEq(4*x - 3*y + 2*z, 4)\n",
        "eq4 = eq3.simplify()\n",
        "sol_x = eq4.solve_for(x)[0]\n",
        "eq1 = eq1.substitute(x, sol_x)\n",
        "sol_y = eq1.solve_for(y)[0]\n",
        "eq2 = eq2.substitute(y, sol_y)\n",
        "sol_z = eq2.solve_for(z)[0]\n",
        "sp.solve([eq1, eq2, eq3])"
      ],
      "metadata": {
        "id": "Uq6AQyKxOUgA",
        "outputId": "beae86f6-d4b4-49d7-f746-b7582e3353e3",
        "colab": {
          "base_uri": "https://localhost:8080/"
        }
      },
      "execution_count": 17,
      "outputs": [
        {
          "output_type": "execute_result",
          "data": {
            "text/plain": [
              "{x: 1, y: 0, z: 0}"
            ]
          },
          "metadata": {},
          "execution_count": 17
        }
      ]
    },
    {
      "cell_type": "code",
      "source": [
        "#Second Eq\n",
        "x, y = symbols('x y')\n",
        "\n",
        "eq1 = EnhancedEq(2*x - 3*y, 10)\n",
        "eq2 = EnhancedEq(4*x + 5*y, 20)\n",
        "eq3 = 2 * eq1 + 3 * eq2\n",
        "eq3 = eq3.simplify()\n",
        "sol_x = eq3.solve_for(x)[0]\n",
        "eq1 = eq1.substitute(x, sol_x)\n",
        "sol_y = eq1.solve_for(y)[0]\n",
        "sp.solve([eq1, eq2])"
      ],
      "metadata": {
        "id": "7XdkTWgeNl7y",
        "outputId": "951bc8d6-4aeb-48b8-ac02-0ff3e151f97e",
        "colab": {
          "base_uri": "https://localhost:8080/"
        }
      },
      "execution_count": 15,
      "outputs": [
        {
          "output_type": "execute_result",
          "data": {
            "text/plain": [
              "{x: 5, y: 0}"
            ]
          },
          "metadata": {},
          "execution_count": 15
        }
      ]
    },
    {
      "cell_type": "code",
      "source": [
        "#First Eq\n",
        "x, y = symbols('x y')\n",
        "\n",
        "eq1 = EnhancedEq(3*x - 2*y, 5)\n",
        "eq2 = EnhancedEq(2*x + 3*y, 7)\n",
        "eq3 = 3 * eq1 + 2 * eq2\n",
        "eq3 = eq3.simplify()\n",
        "sol_x = eq3.solve_for(x)[0]\n",
        "eq1 = eq1.substitute(x, sol_x)\n",
        "sol_y = eq1.solve_for(y)[0]\n",
        "sp.solve([eq1, eq2])\n"
      ],
      "metadata": {
        "id": "RAfiRFTPL8sr",
        "outputId": "de23408e-fdfb-4323-fbdb-2bc0a3ba3b41",
        "colab": {
          "base_uri": "https://localhost:8080/"
        }
      },
      "execution_count": 13,
      "outputs": [
        {
          "output_type": "execute_result",
          "data": {
            "text/plain": [
              "{x: 29/13, y: 11/13}"
            ]
          },
          "metadata": {},
          "execution_count": 13
        }
      ]
    }
  ],
  "metadata": {
    "kernelspec": {
      "display_name": "Python 3",
      "language": "python",
      "name": "python3"
    },
    "language_info": {
      "codemirror_mode": {
        "name": "ipython",
        "version": 3
      },
      "file_extension": ".py",
      "mimetype": "text/x-python",
      "name": "python",
      "nbconvert_exporter": "python",
      "pygments_lexer": "ipython3",
      "version": "3.11.9"
    },
    "colab": {
      "provenance": []
    }
  },
  "nbformat": 4,
  "nbformat_minor": 0
}