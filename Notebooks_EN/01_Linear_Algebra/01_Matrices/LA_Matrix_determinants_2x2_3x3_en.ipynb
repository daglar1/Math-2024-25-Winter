{
  "cells": [
    {
      "cell_type": "markdown",
      "metadata": {
        "id": "cKHpRGoOzPWz"
      },
      "source": [
        "# Determinants of 2x2 and 3x3 matrices\n",
        "\n",
        "### Determinant of a 2x2 Matrix\n",
        "\n",
        "The general formula for the determinant of a 2x2 matrix, where the matrix looks as follows:\n",
        "\n",
        "$$\n",
        "\\mathbf{A} =\n",
        "\\begin{pmatrix}\n",
        "a_{11} & a_{12} \\\\\n",
        "a_{21} & a_{22}\n",
        "\\end{pmatrix}\n",
        "$$\n",
        "\n",
        "The determinant of a 2x2 matrix is calculated using the formula:\n",
        "\n",
        "$$\n",
        "\\text{det}(A) = a_{11} \\cdot a_{22} - a_{12} \\cdot a_{21}\n",
        "$$\n",
        "\n",
        "### Determinant of a 3x3 Matrix\n",
        "\n",
        "The general formula for the determinant of a 3x3 matrix, where the matrix looks as follows:\n",
        "\n",
        "$$\n",
        "\\mathbf{B} =\n",
        "\\begin{pmatrix}\n",
        "a_{11} & a_{12} & a_{13} \\\\\n",
        "a_{21} & a_{22} & a_{23} \\\\\n",
        "a_{31} & a_{32} & a_{33}\n",
        "\\end{pmatrix}\n",
        "$$\n",
        "\n",
        "The determinant of a 3x3 matrix can be calculated using Sarrus' rule or Laplace expansion. Here, we will use Sarrus' rule:\n",
        "\n",
        "$$\n",
        "\\text{det}(B) = a_{11} \\cdot a_{22} \\cdot a_{33} + a_{12} \\cdot a_{23} \\cdot a_{31} + a_{13} \\cdot a_{21} \\cdot a_{32}\n",
        "- a_{13} \\cdot a_{22} \\cdot a_{31} - a_{12} \\cdot a_{21} \\cdot a_{33} - a_{11} \\cdot a_{23} \\cdot a_{32}\n",
        "$$\n",
        "\n",
        "<img src=\"https://upload.wikimedia.org/wikipedia/commons/c/c0/Sarrus_rule1.svg\" alt=\"Image description\" width=\"300\" align=\"center\"/>\n",
        "\n",
        "Note: Sarrus' rule does not work for matrices larger than 3x3.\n",
        "\n",
        "### Calculating Determinants in Python using SymPy\n",
        "\n",
        "Now, using the SymPy library, we will calculate the determinants for 2x2 and 3x3 matrices."
      ]
    },
    {
      "cell_type": "code",
      "execution_count": 1,
      "metadata": {
        "colab": {
          "base_uri": "https://localhost:8080/",
          "height": 58
        },
        "id": "Dny1sw_HzPW0",
        "outputId": "d9cc2c62-0e1d-4530-8a8f-8c85d885a630"
      },
      "outputs": [
        {
          "output_type": "execute_result",
          "data": {
            "text/plain": [
              "Matrix([\n",
              "[2, 3],\n",
              "[1, 4]])"
            ],
            "text/latex": "$\\displaystyle \\left[\\begin{matrix}2 & 3\\\\1 & 4\\end{matrix}\\right]$"
          },
          "metadata": {},
          "execution_count": 1
        }
      ],
      "source": [
        "import sympy as sp\n",
        "\n",
        "# Define the matrix\n",
        "A = sp.Matrix([[2, 3], [1, 4]])\n",
        "A # display the matrix"
      ]
    },
    {
      "cell_type": "code",
      "execution_count": 2,
      "metadata": {
        "notebookRunGroups": {
          "groupValue": "2"
        },
        "colab": {
          "base_uri": "https://localhost:8080/"
        },
        "id": "0KnCNbOwzPW1",
        "outputId": "8249ff20-701b-40a1-e4cc-4bdf1cd44093"
      },
      "outputs": [
        {
          "output_type": "execute_result",
          "data": {
            "text/plain": [
              "True"
            ]
          },
          "metadata": {},
          "execution_count": 2
        }
      ],
      "source": [
        "# Verify the correctness of the calculations\n",
        "(2*4 - 3*1) == A.det()"
      ]
    },
    {
      "cell_type": "code",
      "execution_count": 3,
      "metadata": {
        "colab": {
          "base_uri": "https://localhost:8080/",
          "height": 78
        },
        "id": "OcQ9xpiOzPW1",
        "outputId": "cdb6dcbb-7b15-4e48-afe2-3a152063b3b2"
      },
      "outputs": [
        {
          "output_type": "execute_result",
          "data": {
            "text/plain": [
              "Matrix([\n",
              "[2, 3, 1],\n",
              "[1, 4, 5],\n",
              "[3, 2, 1]])"
            ],
            "text/latex": "$\\displaystyle \\left[\\begin{matrix}2 & 3 & 1\\\\1 & 4 & 5\\\\3 & 2 & 1\\end{matrix}\\right]$"
          },
          "metadata": {},
          "execution_count": 3
        }
      ],
      "source": [
        "# 3x3 Matrix\n",
        "B = sp.Matrix([[2, 3, 1], [1, 4, 5], [3, 2, 1]])\n",
        "B"
      ]
    },
    {
      "cell_type": "code",
      "execution_count": 4,
      "metadata": {
        "colab": {
          "base_uri": "https://localhost:8080/"
        },
        "id": "q_s5aWKvzPW1",
        "outputId": "ba3667bc-a5ca-4dae-cddc-e2748c506e9f"
      },
      "outputs": [
        {
          "output_type": "execute_result",
          "data": {
            "text/plain": [
              "True"
            ]
          },
          "metadata": {},
          "execution_count": 4
        }
      ],
      "source": [
        "# Verify the correctness of the calculations\n",
        "(2*4*1 + 3*5*3 + 1*1*2 - 1*4*3 - 5*2*2 - 3*1*1) == B.det()"
      ]
    },
    {
      "cell_type": "markdown",
      "metadata": {
        "id": "L5UVmZ1xzPW1"
      },
      "source": [
        "---\n",
        "\n",
        "## Exercises for Students\n",
        "\n",
        "Calculate the determinants for the 2x2 and 3x3 matrices given below.\n",
        "\n",
        "1. 2x2 Matrices:\n",
        "\n",
        "$$\n",
        "\\mathbf{A} =\n",
        "\\begin{pmatrix}\n",
        "2 & 3 \\\\\n",
        "1 & 4\n",
        "\\end{pmatrix}\n",
        ", \\qquad\n",
        "\\mathbf{B} =\n",
        "\\begin{pmatrix}\n",
        "5 & 6 \\\\\n",
        "7 & 8\n",
        "\\end{pmatrix}\n",
        ", \\qquad\n",
        "\\mathbf{C} =\n",
        "\\begin{pmatrix}\n",
        "-1 & 2 \\\\\n",
        "3 & 0\n",
        "\\end{pmatrix}\n",
        "$$\n",
        "\n",
        "2. 3x3 Matrices:\n",
        "\n",
        "\n",
        "$$\n",
        "\\mathbf{D} =\n",
        "\\begin{pmatrix}\n",
        "1 & 0 & 2 \\\\\n",
        "-1 & 3 & 1 \\\\\n",
        "2 & 4 & -2\n",
        "\\end{pmatrix}\n",
        ", \\qquad\n",
        "\\mathbf{E} =\n",
        "\\begin{pmatrix}\n",
        "3 & 1 & -1 \\\\\n",
        "0 & 2 & 4 \\\\\n",
        "5 & 3 & 2\n",
        "\\end{pmatrix}\n",
        ", \\qquad\n",
        "\\mathbf{F} =\n",
        "\\begin{pmatrix}\n",
        "2 & -3 & 1 \\\\\n",
        "1 & 4 & -2 \\\\\n",
        "1 & 5 & 3\n",
        "\\end{pmatrix}\n",
        "$$"
      ]
    },
    {
      "cell_type": "code",
      "source": [
        "import sympy as sp\n",
        "F = sp.Matrix([[2, -3, 1], [1, 4, -2], [1, 5, 3]])\n",
        "determinant_F = F.det()\n",
        "print(determinant_F)"
      ],
      "metadata": {
        "colab": {
          "base_uri": "https://localhost:8080/"
        },
        "id": "z-jHQ-9p7l5m",
        "outputId": "04c77ef1-9d87-4b40-ac3a-825635b35625"
      },
      "execution_count": 28,
      "outputs": [
        {
          "output_type": "stream",
          "name": "stdout",
          "text": [
            "60\n"
          ]
        }
      ]
    },
    {
      "cell_type": "code",
      "source": [
        "import sympy as sp\n",
        "E = sp.Matrix([[3, 1, -1], [0, 2, 4], [5, 3, 2]])\n",
        "determinant_E = E.det()\n",
        "print(determinant_E)"
      ],
      "metadata": {
        "colab": {
          "base_uri": "https://localhost:8080/"
        },
        "id": "xBQ7Cbux7HcQ",
        "outputId": "e61add3f-0f1e-4592-b3dc-454ec1c4ca00"
      },
      "execution_count": 27,
      "outputs": [
        {
          "output_type": "stream",
          "name": "stdout",
          "text": [
            "6\n"
          ]
        }
      ]
    },
    {
      "cell_type": "code",
      "source": [
        "import sympy as sp\n",
        "D = sp.Matrix([[1, 0, 2], [-1, 0, 2], [2, 4, -2]])\n",
        "determinant_D = D.det()\n",
        "print(determinant_D)"
      ],
      "metadata": {
        "colab": {
          "base_uri": "https://localhost:8080/"
        },
        "id": "005FUhE74I5V",
        "outputId": "576f11b9-2b23-464a-ef1e-cca401660af6"
      },
      "execution_count": 19,
      "outputs": [
        {
          "output_type": "stream",
          "name": "stdout",
          "text": [
            "-16\n"
          ]
        }
      ]
    },
    {
      "cell_type": "code",
      "source": [
        "import sympy as sp\n",
        "D = sp.Matrix([[1, 0, 2], [-1, 3, 1], [2, 4, -2]])\n",
        "determinant_D = D.det()\n",
        "manual_calculation = (1 * (3 * -2 - 1 * 4) - 0 * (-1 * -2 - 1 * 2) + 2 * (-1 * 4 - 3 * 2))\n",
        "print(f\"Determinant calculated manually:\", manual_calculation)\n",
        "determinant_D = D.det()\n",
        "print(f\"Determinant calculated by sympy\", determinant_D)\n",
        "if determinant_D == manual_calculation:\n",
        "  print(\"The calculations match!\")\n",
        "else:\n",
        "  print(\"There might be an error in your calculation\")"
      ],
      "metadata": {
        "colab": {
          "base_uri": "https://localhost:8080/"
        },
        "id": "Yo6GO5wS4nuC",
        "outputId": "f0e95fed-16f8-436d-dbab-e640d832a6ba"
      },
      "execution_count": 26,
      "outputs": [
        {
          "output_type": "stream",
          "name": "stdout",
          "text": [
            "Determinant calculated manually: -30\n",
            "Determinant calculated by sympy -30\n",
            "The calculations match!\n"
          ]
        }
      ]
    },
    {
      "cell_type": "code",
      "source": [
        "import sympy as sp\n",
        "C = sp.Matrix([[-1, 2], [3, 0]])\n",
        "determinant_C = C.det()\n",
        "print(determinant_C)"
      ],
      "metadata": {
        "colab": {
          "base_uri": "https://localhost:8080/"
        },
        "id": "eRTxoUak3kl2",
        "outputId": "dedf1d25-bb51-4a40-a9cf-ff21178840f7"
      },
      "execution_count": 18,
      "outputs": [
        {
          "output_type": "stream",
          "name": "stdout",
          "text": [
            "-6\n"
          ]
        }
      ]
    },
    {
      "cell_type": "code",
      "source": [
        "import sympy as sp\n",
        "A = sp.Matrix([[2, 3], [1, 4]])\n",
        "determinant_A = A.det()\n",
        "print(determinant_A)"
      ],
      "metadata": {
        "colab": {
          "base_uri": "https://localhost:8080/"
        },
        "id": "ajlJ_TYZz2KI",
        "outputId": "c970966f-2005-4e80-964b-77f3e8216c69"
      },
      "execution_count": 6,
      "outputs": [
        {
          "output_type": "stream",
          "name": "stdout",
          "text": [
            "5\n"
          ]
        }
      ]
    },
    {
      "cell_type": "code",
      "source": [
        "import sympy as sp\n",
        "B = sp.Matrix([[5, 6], [7, 8]])\n",
        "determinant_B = B.det()\n",
        "print(determinant_B)"
      ],
      "metadata": {
        "colab": {
          "base_uri": "https://localhost:8080/"
        },
        "id": "a0xQMGkI0Y3J",
        "outputId": "9e1936e0-0914-4851-c49f-9f3e49fa161a"
      },
      "execution_count": 8,
      "outputs": [
        {
          "output_type": "stream",
          "name": "stdout",
          "text": [
            "-2\n"
          ]
        }
      ]
    },
    {
      "cell_type": "code",
      "source": [
        "import sympy as sp\n",
        "B = sp.Matrix([[5, 6], [7, 8]])\n",
        "determinant_B = B.det()\n",
        "manual_calculation = (5*8 - 6*7)\n",
        "print(f\"Determinant calculated by sympy: {determinant_B}\")\n",
        "print(f\"Determinant calculated by manual calculation: {manual_calculation}\")\n",
        "if determinant_B == manual_calculation:\n",
        "  print(\"The calculations match!\")\n",
        "else:\n",
        "  print(\"There is adiscreapncy in the calculations!\")"
      ],
      "metadata": {
        "colab": {
          "base_uri": "https://localhost:8080/"
        },
        "id": "tE0oS3J803pV",
        "outputId": "ccbe7fb4-92ec-45d9-be83-0a8bf1fb3433"
      },
      "execution_count": 13,
      "outputs": [
        {
          "output_type": "stream",
          "name": "stdout",
          "text": [
            "Determinant calculated by sympy: -2\n",
            "Determinant calculated by manual calculation: -2\n",
            "The calculations match!\n"
          ]
        }
      ]
    }
  ],
  "metadata": {
    "kernelspec": {
      "display_name": "Python 3",
      "language": "python",
      "name": "python3"
    },
    "language_info": {
      "codemirror_mode": {
        "name": "ipython",
        "version": 3
      },
      "file_extension": ".py",
      "mimetype": "text/x-python",
      "name": "python",
      "nbconvert_exporter": "python",
      "pygments_lexer": "ipython3",
      "version": "3.11.9"
    },
    "colab": {
      "provenance": []
    }
  },
  "nbformat": 4,
  "nbformat_minor": 0
}