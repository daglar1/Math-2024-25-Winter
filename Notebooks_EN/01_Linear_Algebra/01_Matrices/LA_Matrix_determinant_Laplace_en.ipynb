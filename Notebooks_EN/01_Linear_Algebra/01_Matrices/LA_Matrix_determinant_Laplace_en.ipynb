{
  "cells": [
    {
      "cell_type": "markdown",
      "metadata": {
        "id": "ppb9hdCW0kBh"
      },
      "source": [
        "# Determinants of 3x3 and 4x4 Matrices using Laplace expansion\n",
        "\n",
        "## Determinant of a 3x3 Matrix using Laplace expansion\n",
        "\n",
        "The general formula for the determinant of a 3x3 matrix is as follows:\n",
        "\n",
        "$$\n",
        "\\mathbf{A} =\n",
        "\\begin{pmatrix}\n",
        "a_{11} & a_{12} & a_{13} \\\\\n",
        "a_{21} & a_{22} & a_{23} \\\\\n",
        "a_{31} & a_{32} & a_{33}\n",
        "\\end{pmatrix}\n",
        "$$\n",
        "\n",
        "The determinant of a 3x3 matrix is calculated by expanding along the first row. We use Laplace expansion, which involves selecting elements of the first row and calculating the determinants of the 2x2 matrices that result from removing the appropriate rows and columns.\n",
        "\n",
        "Expanding along the first row of a 3x3 matrix:\n",
        "\n",
        "$$\n",
        "\\text{det}(A) =\n",
        "(-1)^{1+1}a_{11} \\cdot\n",
        "\\text{det}\n",
        "\\begin{pmatrix}\n",
        "a_{22} & a_{23} \\\\\n",
        "a_{32} & a_{33}\n",
        "\\end{pmatrix}\n",
        "+(-1)^{1+2} a_{12} \\cdot \\text{det}\n",
        "\\begin{pmatrix}\n",
        "a_{21} & a_{23} \\\\\n",
        "a_{31} & a_{33}\n",
        "\\end{pmatrix}\n",
        "+(-1)^{1+3}a_{13} \\cdot \\text{det}\n",
        "\\begin{pmatrix}\n",
        "a_{21} & a_{22} \\\\\n",
        "a_{31} & a_{32}\n",
        "\\end{pmatrix}\n",
        "$$\n",
        "\n",
        "### Example of a 3x3 Matrix\n",
        "\n",
        "For the matrix:\n",
        "\n",
        "$$\n",
        "\\mathbf{A} =\n",
        "\\begin{pmatrix}\n",
        "2 & 3 & 1 \\\\\n",
        "1 & 4 & 5 \\\\\n",
        "3 & 2 & 1\n",
        "\\end{pmatrix}\n",
        "$$\n",
        "\n",
        "Laplace expansion:\n",
        "\n",
        "$$\n",
        "\\text{det}(A) = 2 \\cdot\n",
        "\\text{det}\n",
        "\\begin{pmatrix}\n",
        "4 & 5 \\\\\n",
        "2 & 1\n",
        "\\end{pmatrix}\n",
        "- 3 \\cdot\n",
        "\\text{det}\n",
        "\\begin{pmatrix}\n",
        "1 & 5 \\\\\n",
        "3 & 1\n",
        "\\end{pmatrix}\n",
        "+ 1 \\cdot\n",
        "\\text{det}\n",
        "\\begin{pmatrix}\n",
        "1 & 4 \\\\\n",
        "3 & 2\n",
        "\\end{pmatrix}\n",
        "$$\n",
        "\n",
        "## Determinant of a 4x4 Matrix using Laplace Expansion\n",
        "\n",
        "The general formula for the determinant of a 4x4 matrix, where the matrix looks as follows:\n",
        "\n",
        "$$\n",
        "\\mathbf{B} =\n",
        "\\begin{pmatrix}\n",
        "a_{11} & a_{12} & a_{13} & a_{14} \\\\\n",
        "a_{21} & a_{22} & a_{23} & a_{24} \\\\\n",
        "a_{31} & a_{32} & a_{33} & a_{34} \\\\\n",
        "a_{41} & a_{42} & a_{43} & a_{44}\n",
        "\\end{pmatrix}\n",
        "$$\n",
        "\n",
        "The determinant of a 4x4 matrix is calculated by expanding along the first row. Similar to the 3x3 case, elements of the first row are multiplied by the determinants of the 3x3 matrices that result from removing the appropriate rows and columns.\n",
        "\n",
        "Expanding along the first row of a 4x4 matrix:\n",
        "\n",
        "$$\n",
        "\\text{det}(B) =\n",
        "(-1)^{1+1} \\cdot\n",
        "a_{11} \\cdot \\text{det}\n",
        "\\begin{pmatrix}\n",
        "a_{22} & a_{23} & a_{24} \\\\\n",
        "a_{32} & a_{33} & a_{34} \\\\\n",
        "a_{42} & a_{43} & a_{44}\n",
        "\\end{pmatrix}\n",
        "+ (-1)^{1+2} \\cdot\n",
        "a_{12} \\cdot \\text{det}\n",
        "\\begin{pmatrix}\n",
        "a_{21} & a_{23} & a_{24} \\\\\n",
        "a_{31} & a_{33} & a_{34} \\\\\n",
        "a_{41} & a_{43} & a_{44}\n",
        "\\end{pmatrix}\n",
        "+ (-1)^{1+3} \\cdot\n",
        "a_{13} \\cdot \\text{det}\n",
        "\\begin{pmatrix}\n",
        "a_{21} & a_{22} & a_{24} \\\\\n",
        "a_{31} & a_{32} & a_{34} \\\\\n",
        "a_{41} & a_{42} & a_{44}\n",
        "\\end{pmatrix}\n",
        "+ (-1)^{1+4} \\cdot\n",
        "a_{14} \\cdot \\text{det}\n",
        "\\begin{pmatrix}\n",
        "a_{21} & a_{22} & a_{23} \\\\\n",
        "a_{31} & a_{32} & a_{33} \\\\\n",
        "a_{41} & a_{42} & a_{43}\n",
        "\\end{pmatrix}\n",
        "$$\n",
        "\n",
        "### Example of a 4x4 Matrix\n",
        "\n",
        "For the matrix:\n",
        "\n",
        "$$\n",
        "\\mathbf{B} =\n",
        "\\begin{pmatrix}\n",
        "2 & 3 & 1 & 4 \\\\\n",
        "1 & 4 & 5 & 6 \\\\\n",
        "3 & 2 & 1 & 5 \\\\\n",
        "2 & 1 & 4 & 3\n",
        "\\end{pmatrix}\n",
        "$$\n",
        "\n",
        "Laplace expansion:\n",
        "\n",
        "$$\n",
        "\\text{det}(B) = 2 \\cdot \\text{det}\n",
        "\\begin{pmatrix}\n",
        "4 & 5 & 6 \\\\\n",
        "2 & 1 & 5 \\\\\n",
        "1 & 4 & 3\n",
        "\\end{pmatrix}\n",
        "- 3 \\cdot \\text{det}\n",
        "\\begin{pmatrix}\n",
        "1 & 5 & 6 \\\\\n",
        "3 & 1 & 5 \\\\\n",
        "2 & 4 & 3\n",
        "\\end{pmatrix}\n",
        "+ 1 \\cdot \\text{det}\n",
        "\\begin{pmatrix}\n",
        "1 & 4 & 6 \\\\\n",
        "3 & 2 & 5 \\\\\n",
        "2 & 1 & 3\n",
        "\\end{pmatrix}\n",
        "- 4 \\cdot \\text{det}\n",
        "\\begin{pmatrix}\n",
        "1 & 4 & 5 \\\\\n",
        "3 & 2 & 1 \\\\\n",
        "2 & 1 & 4\n",
        "\\end{pmatrix}\n",
        "$$\n",
        "\n",
        "### Calculating Determinants in Python using SymPy\n",
        "\n",
        "Below we will calculate the determinants of 3x3 and 4x4 matrices using Laplace expansion in Python, using the **SymPy** library."
      ]
    },
    {
      "cell_type": "code",
      "execution_count": null,
      "metadata": {
        "colab": {
          "base_uri": "https://localhost:8080/",
          "height": 78
        },
        "id": "Db30rPoF0kBj",
        "outputId": "f7f542f7-8a63-4006-afe0-4c1189950523"
      },
      "outputs": [
        {
          "output_type": "execute_result",
          "data": {
            "text/plain": [
              "Matrix([\n",
              "[2, 3, 1],\n",
              "[1, 4, 5],\n",
              "[3, 2, 1]])"
            ],
            "text/latex": "$\\displaystyle \\left[\\begin{matrix}2 & 3 & 1\\\\1 & 4 & 5\\\\3 & 2 & 1\\end{matrix}\\right]$"
          },
          "metadata": {},
          "execution_count": 1
        }
      ],
      "source": [
        "import sympy as sp\n",
        "\n",
        "# 3x3 Matrix\n",
        "A = sp.Matrix([[2, 3, 1], [1, 4, 5], [3, 2, 1]])\n",
        "A"
      ]
    },
    {
      "cell_type": "code",
      "execution_count": null,
      "metadata": {
        "colab": {
          "base_uri": "https://localhost:8080/"
        },
        "id": "I31sGAIi0kBj",
        "outputId": "1578ffde-5fbd-4516-f979-3a40da555eae"
      },
      "outputs": [
        {
          "output_type": "execute_result",
          "data": {
            "text/plain": [
              "True"
            ]
          },
          "metadata": {},
          "execution_count": 2
        }
      ],
      "source": [
        "# Select the first row [2, 3, 1]\n",
        "# Define the appropriate minors\n",
        "M11 = sp.Matrix([[4, 5], [2, 1]])\n",
        "M12 = sp.Matrix([[1, 5], [3, 1]])\n",
        "M13 = sp.Matrix([[1, 4], [3, 2]])\n",
        "\n",
        "# Calculate the determinant\n",
        "d = 2*M11.det() - 3*M12.det() + 1*M13.det()\n",
        "\n",
        "d == A.det()"
      ]
    },
    {
      "cell_type": "code",
      "execution_count": null,
      "metadata": {
        "colab": {
          "base_uri": "https://localhost:8080/",
          "height": 98
        },
        "id": "XD2Augy_0kBj",
        "outputId": "da198e5e-eaab-414f-8850-e7fabe3c68fd",
        "collapsed": true
      },
      "outputs": [
        {
          "output_type": "execute_result",
          "data": {
            "text/plain": [
              "Matrix([\n",
              "[2, 0, 1, 0],\n",
              "[1, 4, 5, 6],\n",
              "[3, 2, 1, 5],\n",
              "[2, 1, 4, 3]])"
            ],
            "text/latex": "$\\displaystyle \\left[\\begin{matrix}2 & 0 & 1 & 0\\\\1 & 4 & 5 & 6\\\\3 & 2 & 1 & 5\\\\2 & 1 & 4 & 3\\end{matrix}\\right]$"
          },
          "metadata": {},
          "execution_count": 3
        }
      ],
      "source": [
        "# 4x4 Matrix\n",
        "B = sp.Matrix([[2, 0, 1, 0], [1, 4, 5, 6], [3, 2, 1, 5], [2, 1, 4, 3]])\n",
        "B"
      ]
    },
    {
      "cell_type": "code",
      "execution_count": null,
      "metadata": {
        "id": "d37wMyMR0kBk",
        "outputId": "ed9ad7be-23ba-4e3a-e23e-814c76e24e1d"
      },
      "outputs": [
        {
          "data": {
            "text/plain": [
              "True"
            ]
          },
          "execution_count": 4,
          "metadata": {},
          "output_type": "execute_result"
        }
      ],
      "source": [
        "# Verify the correctness of the calculations\n",
        "M11 = sp.Matrix([[4, 5, 6], [2, 1, 5], [1, 4, 3]])\n",
        "M12 = sp.Matrix([[1, 5, 6], [3, 1, 5], [2, 4, 3]])\n",
        "M13 = sp.Matrix([[1, 4, 6], [3, 2, 5], [2, 1, 3]])\n",
        "M14 = sp.Matrix([[1, 4, 5], [3, 2, 1], [2, 1, 4]])\n",
        "\n",
        "(2*M11.det() - 0*M12.det() + 1*M13.det() - 0*M14.det()) == B.det()\n",
        "\n",
        "d = 2*M11.det() - 0*M12.det() + 1*M13.det() - 0*M14.det()\n",
        "d == B.det()"
      ]
    },
    {
      "cell_type": "markdown",
      "metadata": {
        "id": "Z9EnUutw0kBk"
      },
      "source": [
        "Note that only the first and third terms have non-zero coefficients, so it is not necessary to calculate the determinants of all minors!\n",
        "\n",
        "---\n",
        "\n",
        "## Exercises for Students\n",
        "\n",
        "Calculate the determinants of the following matrices:\n",
        "\n",
        "$$\n",
        "\\mathbf{A} =\n",
        "\\begin{pmatrix}\n",
        "2 & 3 & 1 \\\\\n",
        "1 & 4 & 0 \\\\\n",
        "3 & 2 & 1\n",
        "\\end{pmatrix}\n",
        ",\\qquad\n",
        "\\mathbf{B} =\n",
        "\\begin{pmatrix}\n",
        "2 & 3 & 1 \\\\\n",
        "1 & 4 & 0 \\\\\n",
        "3 & 2 & 0  \\\\\n",
        "\\end{pmatrix}\n",
        ",\\qquad\n",
        "\\mathbf{C} =\n",
        "\\begin{pmatrix}\n",
        "2 & 3 & 1 & 4 \\\\\n",
        "1 & 0 & 0 & 6 \\\\\n",
        "3 & 2 & 1 & 5 \\\\\n",
        "2 & 1 & 4 & 0\n",
        "\\end{pmatrix}\n",
        ",\\qquad\n",
        "\\mathbf{D} =\n",
        "\\begin{pmatrix}\n",
        "2 & 3 & 1 & 4 & 5 \\\\\n",
        "1 & 4 & 0 & 0 & 7 \\\\\n",
        "3 & 0 & 0 & 0 & 0 \\\\\n",
        "2 & 1 & 4 & 3 & 2 \\\\\n",
        "1 & 2 & 3 & 4 & 5\n",
        "\\end{pmatrix}\n",
        "$$"
      ]
    },
    {
      "cell_type": "code",
      "source": [
        "import sympy as sp\n",
        "\n",
        "# Define the 3x3 matrix\n",
        "A = sp.Matrix([[2, 3, 1],\n",
        "               [1, 4, 0],\n",
        "               [3, 2, 1]])\n",
        "\n",
        "# Select the first row [2, 3, 1] and define the minors\n",
        "M11 = sp.Matrix([[4, 0],\n",
        "                 [2, 1]])\n",
        "M12 = sp.Matrix([[1, 0],\n",
        "                 [3, 1]])\n",
        "M13 = sp.Matrix([[1, 4],\n",
        "                 [3, 2]])\n",
        "\n",
        "# Calculate the determinant using Laplace expansion\n",
        "det_A = (2 * M11.det()) - (3 * M12.det()) + (1 * M13.det())\n",
        "print(\"Determinant of A using Laplace expansion:\", det_A)\n",
        "\n",
        "# Verify with built-in determinant calculation\n",
        "print(\"Determinant of A using built-in method:\", A.det())\n"
      ],
      "metadata": {
        "id": "U7S42rUyfRr-",
        "outputId": "9a2ca863-7d16-43dc-a08e-5379e30080cb",
        "colab": {
          "base_uri": "https://localhost:8080/"
        }
      },
      "execution_count": 2,
      "outputs": [
        {
          "output_type": "stream",
          "name": "stdout",
          "text": [
            "Determinant of A using Laplace expansion: -5\n",
            "Determinant of A using built-in method: -5\n"
          ]
        }
      ]
    },
    {
      "cell_type": "code",
      "source": [
        "# Define matrix B\n",
        "B = sp.Matrix([[2, 3, 1],\n",
        "               [1, 4, 0],\n",
        "               [3, 2, 0]])\n",
        "\n",
        "# First row of B is [2, 3, 1]. Define the minors for B\n",
        "M11_B = sp.Matrix([[4, 0],\n",
        "                   [2, 0]])\n",
        "M12_B = sp.Matrix([[1, 0],\n",
        "                   [3, 0]])\n",
        "M13_B = sp.Matrix([[1, 4],\n",
        "                   [3, 2]])\n",
        "\n",
        "# Calculate determinant of B using Laplace expansion\n",
        "det_B = (2 * M11_B.det()) - (3 * M12_B.det()) + (1 * M13_B.det())\n",
        "print(\"Determinant of B using Laplace expansion:\", det_B)\n",
        "\n",
        "# Verify with built-in determinant calculation\n",
        "print(\"Determinant of B using built-in method:\", B.det())\n"
      ],
      "metadata": {
        "id": "3bgVsFlPgADx",
        "outputId": "a3cf3b6c-b7b5-46c2-9e6c-51c9f19bb33a",
        "colab": {
          "base_uri": "https://localhost:8080/"
        }
      },
      "execution_count": 3,
      "outputs": [
        {
          "output_type": "stream",
          "name": "stdout",
          "text": [
            "Determinant of B using Laplace expansion: -10\n",
            "Determinant of B using built-in method: -10\n"
          ]
        }
      ]
    },
    {
      "cell_type": "code",
      "source": [
        "# Define matrix C\n",
        "C = sp.Matrix([[2, 3, 1, 4],\n",
        "               [1, 0, 0, 6],\n",
        "               [3, 2, 1, 5],\n",
        "               [2, 1, 4, 0]])\n",
        "\n",
        "# First row of C is [2, 3, 1, 4]. Define the minors for C\n",
        "M11_C = sp.Matrix([[0, 0, 6],\n",
        "                   [2, 1, 5],\n",
        "                   [1, 4, 0]])\n",
        "M12_C = sp.Matrix([[1, 0, 6],\n",
        "                   [3, 1, 5],\n",
        "                   [2, 4, 0]])\n",
        "M13_C = sp.Matrix([[1, 0, 6],\n",
        "                   [3, 2, 5],\n",
        "                   [2, 1, 0]])\n",
        "M14_C = sp.Matrix([[1, 0, 0],\n",
        "                   [3, 2, 1],\n",
        "                   [2, 1, 4]])\n",
        "\n",
        "# Calculate determinant of C using Laplace expansion\n",
        "det_C = (2 * M11_C.det()) - (3 * M12_C.det()) + (1 * M13_C.det()) - (4 * M14_C.det())\n",
        "print(\"Determinant of C using Laplace expansion:\", det_C)\n",
        "\n",
        "# Verify with built-in determinant calculation\n",
        "print(\"Determinant of C using built-in method:\", C.det())\n"
      ],
      "metadata": {
        "id": "BhAkzSPvgVHc",
        "outputId": "cb1e16bd-d2fc-4ee9-c5ca-d66b7fa80eea",
        "colab": {
          "base_uri": "https://localhost:8080/"
        }
      },
      "execution_count": 4,
      "outputs": [
        {
          "output_type": "stream",
          "name": "stdout",
          "text": [
            "Determinant of C using Laplace expansion: -75\n",
            "Determinant of C using built-in method: -75\n"
          ]
        }
      ]
    },
    {
      "cell_type": "markdown",
      "source": [
        "# Determinant of Matrix \\( D \\) Using Laplace Expansion\n",
        "\n",
        "Given the matrix \\( D \\):\n",
        "\n",
        "$$\n",
        "D = \\begin{bmatrix}\n",
        "2 & 3 & 1 & 4 & 5 \\\\\n",
        "1 & 4 & 0 & 0 & 7 \\\\\n",
        "3 & 0 & 0 & 0 & 0 \\\\\n",
        "2 & 1 & 4 & 3 & 2 \\\\\n",
        "1 & 2 & 3 & 4 & 5\n",
        "\\end{bmatrix}\n",
        "$$\n",
        "\n",
        "---\n",
        "\n",
        "## Step 1: Use the First Row for Laplace Expansion\n",
        "\n",
        "The first row of \\( D \\) is \\( [2, 3, 1, 4, 5] \\). The determinant is calculated as:\n",
        "\n",
        "$$\n",
        "\\text{det}(D) = 2 \\cdot \\text{det}(M_{11}) - 3 \\cdot \\text{det}(M_{12}) + 1 \\cdot \\text{det}(M_{13}) - 4 \\cdot \\text{det}(M_{14}) + 5 \\cdot \\text{det}(M_{15})\n",
        "$$\n",
        "\n",
        "---\n",
        "\n",
        "## Step 2: Define Each Minor Matrix\n",
        "\n",
        "- \\( M_{11} \\): Minor by removing the first row and first column:\n",
        "$$\n",
        "M_{11} = \\begin{bmatrix}\n",
        "4 & 0 & 0 & 7 \\\\\n",
        "0 & 0 & 0 & 0 \\\\\n",
        "1 & 4 & 3 & 2 \\\\\n",
        "2 & 3 & 4 & 5\n",
        "\\end{bmatrix}\n",
        "$$\n",
        "\n",
        "- \\( M_{12} \\): Minor by removing the first row and second column:\n",
        "$$\n",
        "M_{12} = \\begin{bmatrix}\n",
        "1 & 0 & 0 & 7 \\\\\n",
        "3 & 0 & 0 & 0 \\\\\n",
        "2 & 4 & 3 & 2 \\\\\n",
        "1 & 3 & 4 & 5\n",
        "\\end{bmatrix}\n",
        "$$\n",
        "\n",
        "- \\( M_{13} \\): Minor by removing the first row and third column:\n",
        "$$\n",
        "M_{13} = \\begin{bmatrix}\n",
        "1 & 4 & 0 & 7 \\\\\n",
        "3 & 0 & 0 & 0 \\\\\n",
        "2 & 1 & 3 & 2 \\\\\n",
        "1 & 2 & 4 & 5\n",
        "\\end{bmatrix}\n",
        "$$\n",
        "\n",
        "- \\( M_{14} \\): Minor by removing the first row and fourth column:\n",
        "$$\n",
        "M_{14} = \\begin{bmatrix}\n",
        "1 & 4 & 0 & 0 \\\\\n",
        "3 & 0 & 0 & 0 \\\\\n",
        "2 & 1 & 4 & 2 \\\\\n",
        "1 & 2 & 3 & 5\n",
        "\\end{bmatrix}\n",
        "$$\n",
        "\n",
        "- \\( M_{15} \\): Minor by removing the first row and fifth column:\n",
        "$$\n",
        "M_{15} = \\begin{bmatrix}\n",
        "1 & 4 & 0 & 0 \\\\\n",
        "3 & 0 & 0 & 0 \\\\\n",
        "2 & 1 & 4 & 3 \\\\\n",
        "1 & 2 & 3 & 4\n",
        "\\end{bmatrix}\n",
        "$$\n",
        "\n",
        "---\n",
        "\n",
        "## Step 3: Calculate Each Minor Determinant\n",
        "\n",
        "- \\( \\text{det}(M_{11}) = 0 \\)\n",
        "- \\( \\text{det}(M_{12}) = -147 \\)\n",
        "- \\( \\text{det}(M_{13}) = -42 \\)\n",
        "- \\( \\text{det}(M_{14}) = -168 \\)\n",
        "- \\( \\text{det}(M_{15}) = -84 \\)\n",
        "\n",
        "---\n",
        "\n",
        "## Step 4: Substitute Into the Laplace Formula\n",
        "\n",
        "$$\n",
        "\\text{det}(D) = (2 \\cdot 0) - (3 \\cdot -147) + (1 \\cdot -42) - (4 \\cdot -168) + (5 \\cdot -84)\n",
        "$$\n",
        "\n",
        "$$\n",
        "\\text{det}(D) = 0 + 441 - 42 + 672 - 420\n",
        "$$\n",
        "\n",
        "$$\n",
        "\\text{det}(D) = 651\n",
        "$$\n",
        "\n",
        "---\n",
        "\n",
        "## Final Answer\n",
        "\n",
        "The determinant of matrix \\( D \\) is:\n",
        "\n",
        "$$\n",
        "\\boxed{651}\n",
        "$$\n"
      ],
      "metadata": {
        "id": "-MsK0sW_hO83"
      }
    }
  ],
  "metadata": {
    "kernelspec": {
      "display_name": "Python 3",
      "language": "python",
      "name": "python3"
    },
    "language_info": {
      "codemirror_mode": {
        "name": "ipython",
        "version": 3
      },
      "file_extension": ".py",
      "mimetype": "text/x-python",
      "name": "python",
      "nbconvert_exporter": "python",
      "pygments_lexer": "ipython3",
      "version": "3.11.9"
    },
    "colab": {
      "provenance": []
    }
  },
  "nbformat": 4,
  "nbformat_minor": 0
}